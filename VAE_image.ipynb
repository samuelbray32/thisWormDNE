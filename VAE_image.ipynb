{
 "cells": [
  {
   "cell_type": "markdown",
   "metadata": {},
   "source": [
    "# VAE: Image Encoder"
   ]
  },
  {
   "cell_type": "code",
   "execution_count": 1,
   "metadata": {},
   "outputs": [
    {
     "name": "stderr",
     "output_type": "stream",
     "text": [
      "Using TensorFlow backend.\n"
     ]
    }
   ],
   "source": [
    "import keras\n",
    "from keras import layers\n",
    "import numpy as np\n",
    "import matplotlib.pyplot as plt\n",
    "from keras import backend as K\n",
    "import tensorflow as tf\n",
    "config = tf.ConfigProto()\n",
    "config.gpu_options.per_process_gpu_memory_fraction = 0.1\n",
    "#config.gpu_options.allow_growth = True\n",
    "keras.backend.tensorflow_backend.set_session(tf.Session(config=config))"
   ]
  },
  {
   "cell_type": "markdown",
   "metadata": {},
   "source": [
    "##  Build VAE\n",
    "Define Parameters"
   ]
  },
  {
   "cell_type": "code",
   "execution_count": 2,
   "metadata": {},
   "outputs": [],
   "source": [
    "latent_dim = 2         #Dimension of the embedding space\n",
    "input_shape=(28,28,1)  #Shape of each video frame\n",
    "d = input_shape[0]\n",
    "beta = K.variable(5e-2) #hyperparemeter controlling regularization of latent space\n",
    "pix_loss = 'mse'       #consider setting to 'binary' if binarized image"
   ]
  },
  {
   "cell_type": "markdown",
   "metadata": {},
   "source": [
    "Build the model"
   ]
  },
  {
   "cell_type": "code",
   "execution_count": 10,
   "metadata": {},
   "outputs": [],
   "source": [
    "class Sampling(layers.Layer):\n",
    "    \"\"\"Uses (z_mean, z_log_var) to sample z, the vector image.\"\"\"\n",
    "    def call(self, inputs):\n",
    "        z_mean, z_log_var = inputs\n",
    "        batch = tf.shape(z_mean)[0]\n",
    "        dim = tf.shape(z_mean)[1]\n",
    "        epsilon = tf.keras.backend.random_normal(shape=(batch, dim))\n",
    "        return z_mean + tf.exp(0.5 * z_log_var) * epsilon\n",
    "\n",
    "\n",
    "class setBeta(keras.callbacks.Callback):\n",
    "    \"\"\"\"Allows the latent regularization to increase over epochs (find good embedding then contract)\"\"\"\n",
    "    def __init__(self, beta,):\n",
    "        self.beta = beta\n",
    "    def f(self,epoch):\n",
    "        beq = 1e-1\n",
    "        b0 = 5e-3\n",
    "        return beq-(beq-b0)*.95**epoch\n",
    "    def on_epoch_begin(self, epoch, logs={}):\n",
    "        K.set_value(self.beta, self.f(epoch))\n",
    "        \n",
    "\n",
    "def network_encoder(x, latent_dim=2):\n",
    "    \"\"\"build encoder\"\"\"\n",
    "    x = layers.Conv2D(32, 3, activation=\"relu\", strides=2, padding=\"same\")(x)\n",
    "    x = layers.Conv2D(64, 3, activation=\"relu\", strides=2, padding=\"same\")(x)\n",
    "    x = layers.Flatten()(x)\n",
    "    x = layers.Dense(16, activation=\"relu\")(x)\n",
    "    z_mean = layers.Dense(latent_dim, name=\"z_mean\")(x)\n",
    "    z_log_var = layers.Dense(latent_dim, name=\"z_log_var\")(x)\n",
    "    z = Sampling()([z_mean, z_log_var])\n",
    "    return z_mean, z_log_var, z\n",
    "\n",
    "\n",
    "def network_decoder(x): #to do--make sure output matches input shape\n",
    "    \"\"\"build decoder\"\"\"\n",
    "    x = layers.Dense(d//4 * d//4 * 64, activation=\"relu\")(x)\n",
    "    x = layers.Reshape((d//4, d//4, 64))(x)\n",
    "    x = layers.Conv2DTranspose(64, 3, activation=\"relu\", strides=2, padding=\"same\")(x)\n",
    "    x = layers.Conv2DTranspose(32, 3, activation=\"relu\", strides=2, padding=\"same\")(x)\n",
    "    if pix_loss == 'binary':\n",
    "        decoder_outputs = layers.Conv2DTranspose(input_shape[-1], 3, activation=\"sigmoid\", padding=\"same\")(x) \n",
    "    elif pix_loss == 'mse':\n",
    "        decoder_outputs = layers.Conv2DTranspose(input_shape[-1], 3, activation=\"linear\", padding=\"same\")(x)\n",
    "    return decoder_outputs\n",
    "\n",
    "\n",
    "#Build encoder model\n",
    "encoder_input = keras.layers.Input(input_shape)\n",
    "z_mean, z_log_var, z = network_encoder(encoder_input,latent_dim=latent_dim)\n",
    "encoder = keras.models.Model(encoder_input, z_mean, name='encoder')\n",
    "#encoder.summary()\n",
    "\n",
    "#Build decoder model\n",
    "decoder_input = keras.layers.Input((latent_dim,))\n",
    "decoder_output = network_decoder(decoder_input)\n",
    "decoder = keras.models.Model(decoder_input,decoder_output)\n",
    "reconstruction = decoder(z)\n",
    "\n",
    "def custom_loss_wrapper(z_mean=z_mean,z_log_var=z_log_var):\n",
    "    \"\"\"\"Returns the loss function for keras training\"\"\"\n",
    "    def loss(y_true, y_pred):\n",
    "        if pix_loss == 'binary':\n",
    "            reconstruction_loss = tf.reduce_mean(\n",
    "                        keras.losses.binary_crossentropy(y_true,y_pred))          \n",
    "            reconstruction_loss *= d**2\n",
    "        elif pix_loss == 'mse':\n",
    "            reconstruction_loss = tf.reduce_mean(keras.losses.mean_squared_error(y_true,y_pred,))\n",
    "            reconstruction_loss *= d**2\n",
    "        \n",
    "        kl_loss = 1 + z_log_var - tf.square(z_mean) - tf.exp(z_log_var)\n",
    "        kl_loss = tf.reduce_mean(kl_loss)\n",
    "        kl_loss *= -beta\n",
    "        return reconstruction_loss + kl_loss\n",
    "    return loss\n",
    "\n",
    "def reconstruction_loss(y_true, y_pred):\n",
    "    if pix_loss == 'binary':\n",
    "        reconstruction_loss = tf.reduce_mean(\n",
    "                    keras.losses.binary_crossentropy(y_true,y_pred)\n",
    "                )  ###TODO change to MSE for non-bbinary img            \n",
    "        reconstruction_loss *= d**2\n",
    "    elif pix_loss == 'mse':\n",
    "        reconstruction_loss = tf.reduce_mean(keras.losses.mean_squared_error(y_true,y_pred,))\n",
    "        reconstruction_loss *= d**2\n",
    "    return reconstruction_loss\n",
    "\n",
    "def KL_loss_wrapper(z_mean=z_mean,z_log_var=z_log_var):\n",
    "    def KLloss(y_true, y_pred):\n",
    "        kl_loss = 1 + z_log_var - tf.square(z_mean) - tf.exp(z_log_var)\n",
    "        kl_loss = tf.reduce_mean(kl_loss)\n",
    "        kl_loss *= -beta\n",
    "        return kl_loss\n",
    "    return KLloss\n",
    "\n",
    "# compile model\n",
    "model = keras.models.Model(encoder_input,reconstruction)\n",
    "model.compile(optimizer=keras.optimizers.Adam(learning_rate=1e-3),\n",
    "              loss=custom_loss_wrapper(z_mean,z_log_var),\n",
    "              metrics=[reconstruction_loss,\n",
    "                       KL_loss_wrapper(z_mean,z_log_var)])"
   ]
  },
  {
   "cell_type": "markdown",
   "metadata": {},
   "source": [
    "### Load dataset and train"
   ]
  },
  {
   "cell_type": "code",
   "execution_count": 11,
   "metadata": {},
   "outputs": [
    {
     "name": "stdout",
     "output_type": "stream",
     "text": [
      "Epoch 1/20\n",
      "96562/96562 [==============================] - 5s 47us/step - loss: 2.5033 - reconstruction_loss: 2.5027 - KLloss: 2.8807e-05\n",
      "Epoch 2/20\n",
      "96562/96562 [==============================] - 4s 43us/step - loss: 1.9547 - reconstruction_loss: 1.9547 - KLloss: 1.7367e-05\n",
      "Epoch 3/20\n",
      "96562/96562 [==============================] - 4s 42us/step - loss: 1.9519 - reconstruction_loss: 1.9517 - KLloss: 3.2880e-05\n",
      "Epoch 4/20\n",
      "96562/96562 [==============================] - 4s 43us/step - loss: 1.9530 - reconstruction_loss: 1.9527 - KLloss: 5.6712e-05\n",
      "Epoch 5/20\n",
      "96562/96562 [==============================] - 4s 42us/step - loss: 1.9522 - reconstruction_loss: 1.9521 - KLloss: 8.8172e-05\n",
      "Epoch 6/20\n",
      "96562/96562 [==============================] - 4s 42us/step - loss: 1.9511 - reconstruction_loss: 1.9511 - KLloss: 1.0711e-04\n",
      "Epoch 7/20\n",
      "96562/96562 [==============================] - 4s 43us/step - loss: 1.9511 - reconstruction_loss: 1.9509 - KLloss: 1.0368e-04\n",
      "Epoch 8/20\n",
      "96562/96562 [==============================] - 4s 44us/step - loss: 1.9510 - reconstruction_loss: 1.9507 - KLloss: 8.2209e-05\n",
      "Epoch 9/20\n",
      "96562/96562 [==============================] - 4s 44us/step - loss: 1.9495 - reconstruction_loss: 1.9495 - KLloss: 6.1082e-05\n",
      "Epoch 10/20\n",
      "96562/96562 [==============================] - 4s 42us/step - loss: 1.9508 - reconstruction_loss: 1.9508 - KLloss: 4.9140e-05\n",
      "Epoch 11/20\n",
      "96562/96562 [==============================] - 4s 43us/step - loss: 1.9496 - reconstruction_loss: 1.9495 - KLloss: 3.4865e-05\n",
      "Epoch 12/20\n",
      "96562/96562 [==============================] - 4s 43us/step - loss: 1.9493 - reconstruction_loss: 1.9488 - KLloss: 2.8051e-05\n",
      "Epoch 13/20\n",
      "96562/96562 [==============================] - 4s 43us/step - loss: 1.9488 - reconstruction_loss: 1.9485 - KLloss: 2.3865e-05\n",
      "Epoch 14/20\n",
      "96562/96562 [==============================] - 4s 43us/step - loss: 1.9487 - reconstruction_loss: 1.9488 - KLloss: 2.3142e-05\n",
      "Epoch 15/20\n",
      "96562/96562 [==============================] - 4s 43us/step - loss: 1.9489 - reconstruction_loss: 1.9485 - KLloss: 1.7265e-05\n",
      "Epoch 16/20\n",
      "96562/96562 [==============================] - 4s 43us/step - loss: 1.9482 - reconstruction_loss: 1.9485 - KLloss: 1.6551e-05\n",
      "Epoch 17/20\n",
      "96562/96562 [==============================] - 4s 42us/step - loss: 1.9486 - reconstruction_loss: 1.9482 - KLloss: 1.2713e-05\n",
      "Epoch 18/20\n",
      "96562/96562 [==============================] - 4s 43us/step - loss: 1.9478 - reconstruction_loss: 1.9476 - KLloss: 1.1675e-05\n",
      "Epoch 19/20\n",
      "96562/96562 [==============================] - 4s 43us/step - loss: 1.9488 - reconstruction_loss: 1.9495 - KLloss: 1.1739e-05\n",
      "Epoch 20/20\n",
      "96562/96562 [==============================] - 4s 43us/step - loss: 1.9470 - reconstruction_loss: 1.9470 - KLloss: 9.5184e-06\n"
     ]
    },
    {
     "data": {
      "image/png": "[encoded data removed]",
      "text/plain": [
       "<Figure size 432x288 with 3 Axes>"
      ]
     },
     "metadata": {
      "needs_background": "light"
     },
     "output_type": "display_data"
    },
    {
     "data": {
      "text/plain": [
       "Text(0.5, 1.0, 'reconstructed')"
      ]
     },
     "execution_count": 11,
     "metadata": {},
     "output_type": "execute_result"
    },
    {
     "data": {
      "image/png": "[encoded data removed]",
      "text/plain": [
       "<Figure size 432x288 with 2 Axes>"
      ]
     },
     "metadata": {
      "needs_background": "light"
     },
     "output_type": "display_data"
    }
   ],
   "source": [
    "data = np.load('hiResImg_align_28v2.npy').astype(\"float32\")\n",
    "data = data/data.max()\n",
    "#mnist_digits = np.load('otherData/CPC_prepped/hiResImg_64.npy').astype(\"float32\")[:,:,:,None] / 255\n",
    "history = model.fit(x=data,y=data, epochs=20, batch_size=128, callbacks=[setBeta(beta)])\n",
    "\n",
    "pred = model.predict(data[:])\n",
    "latent = encoder.predict(data)\n",
    "fig, ax = plt.subplots(nrows=3,sharex=True)\n",
    "for i,k in enumerate(history.history.keys()):\n",
    "    ax[i].plot(np.log(history.history[k]))\n",
    "    ax[i].set_title(k)\n",
    "plt.show()\n",
    "\n",
    "k=1900*2\n",
    "fig, ax = plt.subplots(ncols=2)\n",
    "ax[0].imshow(data[k,:,:,0])\n",
    "ax[1].imshow(pred[k,:,:,0])\n",
    "ax[0].set_title('original')\n",
    "ax[1].set_title('reconstructed')"
   ]
  },
  {
   "cell_type": "markdown",
   "metadata": {},
   "source": [
    "*** The KL loss will likely increase over time due to the $\\beta$ regularizer schedule\n",
    "\n"
   ]
  }
 ],
 "metadata": {
  "kernelspec": {
   "display_name": "Python 3",
   "language": "python",
   "name": "python3"
  },
  "language_info": {
   "codemirror_mode": {
    "name": "ipython",
    "version": 3
   },
   "file_extension": ".py",
   "mimetype": "text/x-python",
   "name": "python",
   "nbconvert_exporter": "python",
   "pygments_lexer": "ipython3",
   "version": "3.7.4"
  }
 },
 "nbformat": 4,
 "nbformat_minor": 2
}
